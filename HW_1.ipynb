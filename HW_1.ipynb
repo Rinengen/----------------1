{
 "cells": [
  {
   "cell_type": "code",
   "execution_count": 16,
   "metadata": {},
   "outputs": [],
   "source": [
    "import sqlite3\n",
    "import pandas as pd\n",
    "import pandasql\n"
   ]
  },
  {
   "cell_type": "code",
   "execution_count": 17,
   "metadata": {},
   "outputs": [],
   "source": [
    "bank_account_data = pd.read_excel('bank_account_data.xlsx', sheet_name='Mortgage')"
   ]
  },
  {
   "cell_type": "code",
   "execution_count": 18,
   "metadata": {},
   "outputs": [
    {
     "data": {
      "text/plain": [
       "pandas.core.frame.DataFrame"
      ]
     },
     "execution_count": 18,
     "metadata": {},
     "output_type": "execute_result"
    }
   ],
   "source": [
    "type(bank_account_data)"
   ]
  },
  {
   "cell_type": "code",
   "execution_count": 19,
   "metadata": {},
   "outputs": [
    {
     "data": {
      "text/html": [
       "<div>\n",
       "<style scoped>\n",
       "    .dataframe tbody tr th:only-of-type {\n",
       "        vertical-align: middle;\n",
       "    }\n",
       "\n",
       "    .dataframe tbody tr th {\n",
       "        vertical-align: top;\n",
       "    }\n",
       "\n",
       "    .dataframe thead th {\n",
       "        text-align: right;\n",
       "    }\n",
       "</style>\n",
       "<table border=\"1\" class=\"dataframe\">\n",
       "  <thead>\n",
       "    <tr style=\"text-align: right;\">\n",
       "      <th></th>\n",
       "      <th>Cust_ID</th>\n",
       "      <th>Purchase</th>\n",
       "      <th>Cheq_Bal</th>\n",
       "      <th>Sav_Bal</th>\n",
       "      <th>Debt_Bal</th>\n",
       "      <th>Joint_Acct</th>\n",
       "      <th>Age</th>\n",
       "      <th>Date</th>\n",
       "    </tr>\n",
       "  </thead>\n",
       "  <tbody>\n",
       "    <tr>\n",
       "      <th>0</th>\n",
       "      <td>1</td>\n",
       "      <td>0</td>\n",
       "      <td>1739.48</td>\n",
       "      <td>26918.18</td>\n",
       "      <td>12563.93</td>\n",
       "      <td>0</td>\n",
       "      <td>49</td>\n",
       "      <td>NaT</td>\n",
       "    </tr>\n",
       "    <tr>\n",
       "      <th>1</th>\n",
       "      <td>2</td>\n",
       "      <td>0</td>\n",
       "      <td>2862.35</td>\n",
       "      <td>23093.67</td>\n",
       "      <td>15457.88</td>\n",
       "      <td>0</td>\n",
       "      <td>39</td>\n",
       "      <td>NaT</td>\n",
       "    </tr>\n",
       "    <tr>\n",
       "      <th>2</th>\n",
       "      <td>3</td>\n",
       "      <td>0</td>\n",
       "      <td>2296.66</td>\n",
       "      <td>18037.33</td>\n",
       "      <td>12721.89</td>\n",
       "      <td>0</td>\n",
       "      <td>52</td>\n",
       "      <td>NaT</td>\n",
       "    </tr>\n",
       "    <tr>\n",
       "      <th>3</th>\n",
       "      <td>4</td>\n",
       "      <td>1</td>\n",
       "      <td>2880.28</td>\n",
       "      <td>32317.63</td>\n",
       "      <td>7075.03</td>\n",
       "      <td>0</td>\n",
       "      <td>28</td>\n",
       "      <td>2017-04-30</td>\n",
       "    </tr>\n",
       "    <tr>\n",
       "      <th>4</th>\n",
       "      <td>5</td>\n",
       "      <td>0</td>\n",
       "      <td>998.27</td>\n",
       "      <td>15110.04</td>\n",
       "      <td>11356.13</td>\n",
       "      <td>0</td>\n",
       "      <td>43</td>\n",
       "      <td>NaT</td>\n",
       "    </tr>\n",
       "  </tbody>\n",
       "</table>\n",
       "</div>"
      ],
      "text/plain": [
       "   Cust_ID  Purchase  Cheq_Bal   Sav_Bal  Debt_Bal  Joint_Acct  Age       Date\n",
       "0        1         0   1739.48  26918.18  12563.93           0   49        NaT\n",
       "1        2         0   2862.35  23093.67  15457.88           0   39        NaT\n",
       "2        3         0   2296.66  18037.33  12721.89           0   52        NaT\n",
       "3        4         1   2880.28  32317.63   7075.03           0   28 2017-04-30\n",
       "4        5         0    998.27  15110.04  11356.13           0   43        NaT"
      ]
     },
     "execution_count": 19,
     "metadata": {},
     "output_type": "execute_result"
    }
   ],
   "source": [
    "bank_account_data.head()"
   ]
  },
  {
   "cell_type": "code",
   "execution_count": 20,
   "metadata": {},
   "outputs": [
    {
     "data": {
      "text/plain": [
       "Index(['Cust_ID', 'Purchase', 'Cheq_Bal', 'Sav_Bal', 'Debt_Bal', 'Joint_Acct',\n",
       "       'Age', 'Date'],\n",
       "      dtype='object')"
      ]
     },
     "execution_count": 20,
     "metadata": {},
     "output_type": "execute_result"
    }
   ],
   "source": [
    "bank_account_data.columns"
   ]
  },
  {
   "cell_type": "code",
   "execution_count": 21,
   "metadata": {},
   "outputs": [
    {
     "data": {
      "text/html": [
       "<div>\n",
       "<style scoped>\n",
       "    .dataframe tbody tr th:only-of-type {\n",
       "        vertical-align: middle;\n",
       "    }\n",
       "\n",
       "    .dataframe tbody tr th {\n",
       "        vertical-align: top;\n",
       "    }\n",
       "\n",
       "    .dataframe thead th {\n",
       "        text-align: right;\n",
       "    }\n",
       "</style>\n",
       "<table border=\"1\" class=\"dataframe\">\n",
       "  <thead>\n",
       "    <tr style=\"text-align: right;\">\n",
       "      <th></th>\n",
       "      <th>AVG(Purchase)</th>\n",
       "      <th>MAX(Purchase)</th>\n",
       "      <th>MIN(Purchase)</th>\n",
       "      <th>SUM(Purchase)</th>\n",
       "      <th>COUNT(Purchase)</th>\n",
       "    </tr>\n",
       "  </thead>\n",
       "  <tbody>\n",
       "    <tr>\n",
       "      <th>0</th>\n",
       "      <td>0.195</td>\n",
       "      <td>1</td>\n",
       "      <td>0</td>\n",
       "      <td>39</td>\n",
       "      <td>200</td>\n",
       "    </tr>\n",
       "  </tbody>\n",
       "</table>\n",
       "</div>"
      ],
      "text/plain": [
       "   AVG(Purchase)  MAX(Purchase)  MIN(Purchase)  SUM(Purchase)  COUNT(Purchase)\n",
       "0          0.195              1              0             39              200"
      ]
     },
     "execution_count": 21,
     "metadata": {},
     "output_type": "execute_result"
    }
   ],
   "source": [
    "Purchase_sql= pandasql.sqldf(\"\"\"\n",
    "    SELECT \n",
    "    AVG(Purchase),MAX(Purchase), MIN(Purchase), SUM(Purchase), COUNT(Purchase)\n",
    "    FROM bank_account_data;\"\"\")\n",
    "Purchase_sql"
   ]
  },
  {
   "cell_type": "code",
   "execution_count": 22,
   "metadata": {},
   "outputs": [
    {
     "data": {
      "text/html": [
       "<div>\n",
       "<style scoped>\n",
       "    .dataframe tbody tr th:only-of-type {\n",
       "        vertical-align: middle;\n",
       "    }\n",
       "\n",
       "    .dataframe tbody tr th {\n",
       "        vertical-align: top;\n",
       "    }\n",
       "\n",
       "    .dataframe thead th {\n",
       "        text-align: right;\n",
       "    }\n",
       "</style>\n",
       "<table border=\"1\" class=\"dataframe\">\n",
       "  <thead>\n",
       "    <tr style=\"text-align: right;\">\n",
       "      <th></th>\n",
       "      <th>AVG(Cheq_Bal)</th>\n",
       "      <th>MAX(Cheq_Bal)</th>\n",
       "      <th>MIN(Cheq_Bal)</th>\n",
       "      <th>SUM(Cheq_Bal)</th>\n",
       "      <th>COUNT(Cheq_Bal)</th>\n",
       "    </tr>\n",
       "  </thead>\n",
       "  <tbody>\n",
       "    <tr>\n",
       "      <th>0</th>\n",
       "      <td>2145.0935</td>\n",
       "      <td>4437.44</td>\n",
       "      <td>644.31</td>\n",
       "      <td>429018.7</td>\n",
       "      <td>200</td>\n",
       "    </tr>\n",
       "  </tbody>\n",
       "</table>\n",
       "</div>"
      ],
      "text/plain": [
       "   AVG(Cheq_Bal)  MAX(Cheq_Bal)  MIN(Cheq_Bal)  SUM(Cheq_Bal)  COUNT(Cheq_Bal)\n",
       "0      2145.0935        4437.44         644.31       429018.7              200"
      ]
     },
     "execution_count": 22,
     "metadata": {},
     "output_type": "execute_result"
    }
   ],
   "source": [
    "Cheq_Bal_sql= pandasql.sqldf(\"\"\"\n",
    "    SELECT AVG(Cheq_Bal), MAX(Cheq_Bal), MIN(Cheq_Bal), SUM(Cheq_Bal), COUNT(Cheq_Bal)\n",
    "    FROM bank_account_data;\"\"\")\n",
    "Cheq_Bal_sql"
   ]
  },
  {
   "cell_type": "code",
   "execution_count": 23,
   "metadata": {},
   "outputs": [
    {
     "data": {
      "text/html": [
       "<div>\n",
       "<style scoped>\n",
       "    .dataframe tbody tr th:only-of-type {\n",
       "        vertical-align: middle;\n",
       "    }\n",
       "\n",
       "    .dataframe tbody tr th {\n",
       "        vertical-align: top;\n",
       "    }\n",
       "\n",
       "    .dataframe thead th {\n",
       "        text-align: right;\n",
       "    }\n",
       "</style>\n",
       "<table border=\"1\" class=\"dataframe\">\n",
       "  <thead>\n",
       "    <tr style=\"text-align: right;\">\n",
       "      <th></th>\n",
       "      <th>AVG(Sav_Bal)</th>\n",
       "      <th>MAX(Sav_Bal)</th>\n",
       "      <th>MIN(Sav_Bal)</th>\n",
       "      <th>SUM(Sav_Bal)</th>\n",
       "      <th>COUNT(Sav_Bal)</th>\n",
       "    </tr>\n",
       "  </thead>\n",
       "  <tbody>\n",
       "    <tr>\n",
       "      <th>0</th>\n",
       "      <td>22084.42895</td>\n",
       "      <td>39132.63</td>\n",
       "      <td>6558.91</td>\n",
       "      <td>4416885.79</td>\n",
       "      <td>200</td>\n",
       "    </tr>\n",
       "  </tbody>\n",
       "</table>\n",
       "</div>"
      ],
      "text/plain": [
       "   AVG(Sav_Bal)  MAX(Sav_Bal)  MIN(Sav_Bal)  SUM(Sav_Bal)  COUNT(Sav_Bal)\n",
       "0   22084.42895      39132.63       6558.91    4416885.79             200"
      ]
     },
     "execution_count": 23,
     "metadata": {},
     "output_type": "execute_result"
    }
   ],
   "source": [
    "Sav_Bal_sql= pandasql.sqldf(\"\"\"\n",
    "    SELECT AVG(Sav_Bal), MAX(Sav_Bal), MIN(Sav_Bal), SUM(Sav_Bal), COUNT(Sav_Bal)\n",
    "    FROM bank_account_data;\"\"\")\n",
    "Sav_Bal_sql"
   ]
  },
  {
   "cell_type": "code",
   "execution_count": 24,
   "metadata": {},
   "outputs": [
    {
     "data": {
      "text/html": [
       "<div>\n",
       "<style scoped>\n",
       "    .dataframe tbody tr th:only-of-type {\n",
       "        vertical-align: middle;\n",
       "    }\n",
       "\n",
       "    .dataframe tbody tr th {\n",
       "        vertical-align: top;\n",
       "    }\n",
       "\n",
       "    .dataframe thead th {\n",
       "        text-align: right;\n",
       "    }\n",
       "</style>\n",
       "<table border=\"1\" class=\"dataframe\">\n",
       "  <thead>\n",
       "    <tr style=\"text-align: right;\">\n",
       "      <th></th>\n",
       "      <th>AVG(Debt_Bal)</th>\n",
       "      <th>MAX(Debt_Bal)</th>\n",
       "      <th>MIN(Debt_Bal)</th>\n",
       "      <th>SUM(Debt_Bal)</th>\n",
       "      <th>COUNT(Debt_Bal)</th>\n",
       "    </tr>\n",
       "  </thead>\n",
       "  <tbody>\n",
       "    <tr>\n",
       "      <th>0</th>\n",
       "      <td>8638.3696</td>\n",
       "      <td>20559.7</td>\n",
       "      <td>0.0</td>\n",
       "      <td>1727673.92</td>\n",
       "      <td>200</td>\n",
       "    </tr>\n",
       "  </tbody>\n",
       "</table>\n",
       "</div>"
      ],
      "text/plain": [
       "   AVG(Debt_Bal)  MAX(Debt_Bal)  MIN(Debt_Bal)  SUM(Debt_Bal)  COUNT(Debt_Bal)\n",
       "0      8638.3696        20559.7            0.0     1727673.92              200"
      ]
     },
     "execution_count": 24,
     "metadata": {},
     "output_type": "execute_result"
    }
   ],
   "source": [
    "Debt_Bal_sql= pandasql.sqldf(\"\"\"\n",
    "    SELECT AVG(Debt_Bal), MAX(Debt_Bal), MIN(Debt_Bal), SUM(Debt_Bal), COUNT(Debt_Bal)\n",
    "    FROM bank_account_data;\"\"\")\n",
    "Debt_Bal_sql"
   ]
  },
  {
   "cell_type": "code",
   "execution_count": 25,
   "metadata": {},
   "outputs": [
    {
     "data": {
      "text/html": [
       "<div>\n",
       "<style scoped>\n",
       "    .dataframe tbody tr th:only-of-type {\n",
       "        vertical-align: middle;\n",
       "    }\n",
       "\n",
       "    .dataframe tbody tr th {\n",
       "        vertical-align: top;\n",
       "    }\n",
       "\n",
       "    .dataframe thead th {\n",
       "        text-align: right;\n",
       "    }\n",
       "</style>\n",
       "<table border=\"1\" class=\"dataframe\">\n",
       "  <thead>\n",
       "    <tr style=\"text-align: right;\">\n",
       "      <th></th>\n",
       "      <th>AVG(Joint_Acct)</th>\n",
       "      <th>MAX(Joint_Acct)</th>\n",
       "      <th>MIN(Joint_Acct)</th>\n",
       "      <th>SUM(Joint_Acct)</th>\n",
       "      <th>COUNT(Joint_Acct)</th>\n",
       "    </tr>\n",
       "  </thead>\n",
       "  <tbody>\n",
       "    <tr>\n",
       "      <th>0</th>\n",
       "      <td>0.295</td>\n",
       "      <td>1</td>\n",
       "      <td>0</td>\n",
       "      <td>59</td>\n",
       "      <td>200</td>\n",
       "    </tr>\n",
       "  </tbody>\n",
       "</table>\n",
       "</div>"
      ],
      "text/plain": [
       "   AVG(Joint_Acct)  MAX(Joint_Acct)  MIN(Joint_Acct)  SUM(Joint_Acct)  \\\n",
       "0            0.295                1                0               59   \n",
       "\n",
       "   COUNT(Joint_Acct)  \n",
       "0                200  "
      ]
     },
     "execution_count": 25,
     "metadata": {},
     "output_type": "execute_result"
    }
   ],
   "source": [
    "Joint_Acct_sql= pandasql.sqldf(\"\"\"\n",
    "    SELECT AVG(Joint_Acct), MAX(Joint_Acct), MIN(Joint_Acct), SUM(Joint_Acct), COUNT(Joint_Acct)\n",
    "    FROM bank_account_data;\"\"\")\n",
    "Joint_Acct_sql"
   ]
  },
  {
   "cell_type": "code",
   "execution_count": 26,
   "metadata": {},
   "outputs": [
    {
     "data": {
      "text/html": [
       "<div>\n",
       "<style scoped>\n",
       "    .dataframe tbody tr th:only-of-type {\n",
       "        vertical-align: middle;\n",
       "    }\n",
       "\n",
       "    .dataframe tbody tr th {\n",
       "        vertical-align: top;\n",
       "    }\n",
       "\n",
       "    .dataframe thead th {\n",
       "        text-align: right;\n",
       "    }\n",
       "</style>\n",
       "<table border=\"1\" class=\"dataframe\">\n",
       "  <thead>\n",
       "    <tr style=\"text-align: right;\">\n",
       "      <th></th>\n",
       "      <th>AVG(Age)</th>\n",
       "      <th>MAX(Age)</th>\n",
       "      <th>MIN(Age)</th>\n",
       "      <th>SUM(Age)</th>\n",
       "      <th>COUNT(Age)</th>\n",
       "    </tr>\n",
       "  </thead>\n",
       "  <tbody>\n",
       "    <tr>\n",
       "      <th>0</th>\n",
       "      <td>38.535</td>\n",
       "      <td>60</td>\n",
       "      <td>18</td>\n",
       "      <td>7707</td>\n",
       "      <td>200</td>\n",
       "    </tr>\n",
       "  </tbody>\n",
       "</table>\n",
       "</div>"
      ],
      "text/plain": [
       "   AVG(Age)  MAX(Age)  MIN(Age)  SUM(Age)  COUNT(Age)\n",
       "0    38.535        60        18      7707         200"
      ]
     },
     "execution_count": 26,
     "metadata": {},
     "output_type": "execute_result"
    }
   ],
   "source": [
    "Age_sql= pandasql.sqldf(\"\"\"\n",
    "    SELECT AVG(Age), MAX(Age), MIN(Age), SUM(Age), COUNT(Age)\n",
    "    FROM bank_account_data;\"\"\")\n",
    "Age_sql"
   ]
  },
  {
   "cell_type": "code",
   "execution_count": 27,
   "metadata": {},
   "outputs": [
    {
     "data": {
      "text/html": [
       "<div>\n",
       "<style scoped>\n",
       "    .dataframe tbody tr th:only-of-type {\n",
       "        vertical-align: middle;\n",
       "    }\n",
       "\n",
       "    .dataframe tbody tr th {\n",
       "        vertical-align: top;\n",
       "    }\n",
       "\n",
       "    .dataframe thead th {\n",
       "        text-align: right;\n",
       "    }\n",
       "</style>\n",
       "<table border=\"1\" class=\"dataframe\">\n",
       "  <thead>\n",
       "    <tr style=\"text-align: right;\">\n",
       "      <th></th>\n",
       "      <th>AVG(Date)</th>\n",
       "      <th>MAX(Date)</th>\n",
       "      <th>MIN(Date)</th>\n",
       "      <th>COUNT(Date)</th>\n",
       "    </tr>\n",
       "  </thead>\n",
       "  <tbody>\n",
       "    <tr>\n",
       "      <th>0</th>\n",
       "      <td>2017.0</td>\n",
       "      <td>2017-08-29 00:00:00.000000</td>\n",
       "      <td>2017-04-01 00:00:00.000000</td>\n",
       "      <td>39</td>\n",
       "    </tr>\n",
       "  </tbody>\n",
       "</table>\n",
       "</div>"
      ],
      "text/plain": [
       "   AVG(Date)                   MAX(Date)                   MIN(Date)  \\\n",
       "0     2017.0  2017-08-29 00:00:00.000000  2017-04-01 00:00:00.000000   \n",
       "\n",
       "   COUNT(Date)  \n",
       "0           39  "
      ]
     },
     "execution_count": 27,
     "metadata": {},
     "output_type": "execute_result"
    }
   ],
   "source": [
    "Date_sql= pandasql.sqldf(\"\"\"\n",
    "    SELECT AVG(Date), MAX(Date), MIN(Date), COUNT(Date)\n",
    "    FROM bank_account_data;\"\"\")\n",
    "Date_sql"
   ]
  },
  {
   "cell_type": "code",
   "execution_count": 28,
   "metadata": {},
   "outputs": [
    {
     "data": {
      "text/html": [
       "<div>\n",
       "<style scoped>\n",
       "    .dataframe tbody tr th:only-of-type {\n",
       "        vertical-align: middle;\n",
       "    }\n",
       "\n",
       "    .dataframe tbody tr th {\n",
       "        vertical-align: top;\n",
       "    }\n",
       "\n",
       "    .dataframe thead th {\n",
       "        text-align: right;\n",
       "    }\n",
       "</style>\n",
       "<table border=\"1\" class=\"dataframe\">\n",
       "  <thead>\n",
       "    <tr style=\"text-align: right;\">\n",
       "      <th></th>\n",
       "      <th>Cust_ID</th>\n",
       "      <th>Purchase</th>\n",
       "      <th>Cheq_Bal</th>\n",
       "      <th>Sav_Bal</th>\n",
       "      <th>Debt_Bal</th>\n",
       "      <th>Joint_Acct</th>\n",
       "      <th>Age</th>\n",
       "      <th>Date</th>\n",
       "    </tr>\n",
       "  </thead>\n",
       "  <tbody>\n",
       "    <tr>\n",
       "      <th>0</th>\n",
       "      <td>1</td>\n",
       "      <td>0</td>\n",
       "      <td>1739.48</td>\n",
       "      <td>26918.18</td>\n",
       "      <td>12563.93</td>\n",
       "      <td>0</td>\n",
       "      <td>49</td>\n",
       "      <td>NaT</td>\n",
       "    </tr>\n",
       "    <tr>\n",
       "      <th>1</th>\n",
       "      <td>2</td>\n",
       "      <td>0</td>\n",
       "      <td>2862.35</td>\n",
       "      <td>23093.67</td>\n",
       "      <td>15457.88</td>\n",
       "      <td>0</td>\n",
       "      <td>39</td>\n",
       "      <td>NaT</td>\n",
       "    </tr>\n",
       "    <tr>\n",
       "      <th>2</th>\n",
       "      <td>3</td>\n",
       "      <td>0</td>\n",
       "      <td>2296.66</td>\n",
       "      <td>18037.33</td>\n",
       "      <td>12721.89</td>\n",
       "      <td>0</td>\n",
       "      <td>52</td>\n",
       "      <td>NaT</td>\n",
       "    </tr>\n",
       "    <tr>\n",
       "      <th>3</th>\n",
       "      <td>4</td>\n",
       "      <td>1</td>\n",
       "      <td>2880.28</td>\n",
       "      <td>32317.63</td>\n",
       "      <td>7075.03</td>\n",
       "      <td>0</td>\n",
       "      <td>28</td>\n",
       "      <td>2017-04-30</td>\n",
       "    </tr>\n",
       "    <tr>\n",
       "      <th>4</th>\n",
       "      <td>5</td>\n",
       "      <td>0</td>\n",
       "      <td>998.27</td>\n",
       "      <td>15110.04</td>\n",
       "      <td>11356.13</td>\n",
       "      <td>0</td>\n",
       "      <td>43</td>\n",
       "      <td>NaT</td>\n",
       "    </tr>\n",
       "    <tr>\n",
       "      <th>...</th>\n",
       "      <td>...</td>\n",
       "      <td>...</td>\n",
       "      <td>...</td>\n",
       "      <td>...</td>\n",
       "      <td>...</td>\n",
       "      <td>...</td>\n",
       "      <td>...</td>\n",
       "      <td>...</td>\n",
       "    </tr>\n",
       "    <tr>\n",
       "      <th>195</th>\n",
       "      <td>196</td>\n",
       "      <td>0</td>\n",
       "      <td>2215.39</td>\n",
       "      <td>20050.87</td>\n",
       "      <td>11307.01</td>\n",
       "      <td>0</td>\n",
       "      <td>32</td>\n",
       "      <td>NaT</td>\n",
       "    </tr>\n",
       "    <tr>\n",
       "      <th>196</th>\n",
       "      <td>197</td>\n",
       "      <td>0</td>\n",
       "      <td>2074.33</td>\n",
       "      <td>22808.68</td>\n",
       "      <td>7880.16</td>\n",
       "      <td>0</td>\n",
       "      <td>27</td>\n",
       "      <td>NaT</td>\n",
       "    </tr>\n",
       "    <tr>\n",
       "      <th>197</th>\n",
       "      <td>198</td>\n",
       "      <td>0</td>\n",
       "      <td>1224.07</td>\n",
       "      <td>29926.97</td>\n",
       "      <td>5637.92</td>\n",
       "      <td>0</td>\n",
       "      <td>44</td>\n",
       "      <td>NaT</td>\n",
       "    </tr>\n",
       "    <tr>\n",
       "      <th>198</th>\n",
       "      <td>199</td>\n",
       "      <td>0</td>\n",
       "      <td>2617.27</td>\n",
       "      <td>14316.61</td>\n",
       "      <td>9445.28</td>\n",
       "      <td>0</td>\n",
       "      <td>38</td>\n",
       "      <td>NaT</td>\n",
       "    </tr>\n",
       "    <tr>\n",
       "      <th>199</th>\n",
       "      <td>200</td>\n",
       "      <td>0</td>\n",
       "      <td>2125.45</td>\n",
       "      <td>25687.52</td>\n",
       "      <td>4559.63</td>\n",
       "      <td>0</td>\n",
       "      <td>56</td>\n",
       "      <td>NaT</td>\n",
       "    </tr>\n",
       "  </tbody>\n",
       "</table>\n",
       "<p>200 rows × 8 columns</p>\n",
       "</div>"
      ],
      "text/plain": [
       "     Cust_ID  Purchase  Cheq_Bal   Sav_Bal  Debt_Bal  Joint_Acct  Age  \\\n",
       "0          1         0   1739.48  26918.18  12563.93           0   49   \n",
       "1          2         0   2862.35  23093.67  15457.88           0   39   \n",
       "2          3         0   2296.66  18037.33  12721.89           0   52   \n",
       "3          4         1   2880.28  32317.63   7075.03           0   28   \n",
       "4          5         0    998.27  15110.04  11356.13           0   43   \n",
       "..       ...       ...       ...       ...       ...         ...  ...   \n",
       "195      196         0   2215.39  20050.87  11307.01           0   32   \n",
       "196      197         0   2074.33  22808.68   7880.16           0   27   \n",
       "197      198         0   1224.07  29926.97   5637.92           0   44   \n",
       "198      199         0   2617.27  14316.61   9445.28           0   38   \n",
       "199      200         0   2125.45  25687.52   4559.63           0   56   \n",
       "\n",
       "          Date  \n",
       "0          NaT  \n",
       "1          NaT  \n",
       "2          NaT  \n",
       "3   2017-04-30  \n",
       "4          NaT  \n",
       "..         ...  \n",
       "195        NaT  \n",
       "196        NaT  \n",
       "197        NaT  \n",
       "198        NaT  \n",
       "199        NaT  \n",
       "\n",
       "[200 rows x 8 columns]"
      ]
     },
     "execution_count": 28,
     "metadata": {},
     "output_type": "execute_result"
    }
   ],
   "source": [
    "bank_account_data"
   ]
  },
  {
   "cell_type": "code",
   "execution_count": 29,
   "metadata": {},
   "outputs": [
    {
     "data": {
      "text/html": [
       "<div>\n",
       "<style scoped>\n",
       "    .dataframe tbody tr th:only-of-type {\n",
       "        vertical-align: middle;\n",
       "    }\n",
       "\n",
       "    .dataframe tbody tr th {\n",
       "        vertical-align: top;\n",
       "    }\n",
       "\n",
       "    .dataframe thead th {\n",
       "        text-align: right;\n",
       "    }\n",
       "</style>\n",
       "<table border=\"1\" class=\"dataframe\">\n",
       "  <thead>\n",
       "    <tr style=\"text-align: right;\">\n",
       "      <th></th>\n",
       "      <th>Общая сумма счетов пользователя</th>\n",
       "    </tr>\n",
       "  </thead>\n",
       "  <tbody>\n",
       "    <tr>\n",
       "      <th>0</th>\n",
       "      <td>41221.59</td>\n",
       "    </tr>\n",
       "    <tr>\n",
       "      <th>1</th>\n",
       "      <td>41413.90</td>\n",
       "    </tr>\n",
       "    <tr>\n",
       "      <th>2</th>\n",
       "      <td>33055.88</td>\n",
       "    </tr>\n",
       "    <tr>\n",
       "      <th>3</th>\n",
       "      <td>42272.94</td>\n",
       "    </tr>\n",
       "    <tr>\n",
       "      <th>4</th>\n",
       "      <td>27464.44</td>\n",
       "    </tr>\n",
       "  </tbody>\n",
       "</table>\n",
       "</div>"
      ],
      "text/plain": [
       "   Общая сумма счетов пользователя\n",
       "0                         41221.59\n",
       "1                         41413.90\n",
       "2                         33055.88\n",
       "3                         42272.94\n",
       "4                         27464.44"
      ]
     },
     "execution_count": 29,
     "metadata": {},
     "output_type": "execute_result"
    }
   ],
   "source": [
    "Bal_SUM= pandasql.sqldf(\"\"\"\n",
    "    SELECT \n",
    "        SUM(Cheq_Bal + Sav_Bal +Debt_Bal) as \"Общая сумма счетов пользователя\"\n",
    "    FROM bank_account_data \n",
    "    GROUP BY Cust_ID;\"\"\")\n",
    "Bal_SUM.head()"
   ]
  },
  {
   "cell_type": "code",
   "execution_count": 30,
   "metadata": {},
   "outputs": [
    {
     "data": {
      "text/html": [
       "<div>\n",
       "<style scoped>\n",
       "    .dataframe tbody tr th:only-of-type {\n",
       "        vertical-align: middle;\n",
       "    }\n",
       "\n",
       "    .dataframe tbody tr th {\n",
       "        vertical-align: top;\n",
       "    }\n",
       "\n",
       "    .dataframe thead th {\n",
       "        text-align: right;\n",
       "    }\n",
       "</style>\n",
       "<table border=\"1\" class=\"dataframe\">\n",
       "  <thead>\n",
       "    <tr style=\"text-align: right;\">\n",
       "      <th></th>\n",
       "      <th>Общая сумма на счетах ипотечников</th>\n",
       "    </tr>\n",
       "  </thead>\n",
       "  <tbody>\n",
       "    <tr>\n",
       "      <th>0</th>\n",
       "      <td>42272.94</td>\n",
       "    </tr>\n",
       "    <tr>\n",
       "      <th>1</th>\n",
       "      <td>41838.28</td>\n",
       "    </tr>\n",
       "    <tr>\n",
       "      <th>2</th>\n",
       "      <td>29915.27</td>\n",
       "    </tr>\n",
       "    <tr>\n",
       "      <th>3</th>\n",
       "      <td>38132.88</td>\n",
       "    </tr>\n",
       "    <tr>\n",
       "      <th>4</th>\n",
       "      <td>28965.99</td>\n",
       "    </tr>\n",
       "  </tbody>\n",
       "</table>\n",
       "</div>"
      ],
      "text/plain": [
       "   Общая сумма на счетах ипотечников\n",
       "0                           42272.94\n",
       "1                           41838.28\n",
       "2                           29915.27\n",
       "3                           38132.88\n",
       "4                           28965.99"
      ]
     },
     "execution_count": 30,
     "metadata": {},
     "output_type": "execute_result"
    }
   ],
   "source": [
    "Bal_SUM= pandasql.sqldf(\"\"\"\n",
    "    SELECT \n",
    "        SUM(Cheq_Bal + Sav_Bal +Debt_Bal) as \"Общая сумма на счетах ипотечников\" \n",
    "    FROM bank_account_data \n",
    "    WHERE Purchase=1 \n",
    "    GROUP BY Cust_ID;\"\"\")\n",
    "Bal_SUM.head()"
   ]
  },
  {
   "cell_type": "code",
   "execution_count": 31,
   "metadata": {},
   "outputs": [
    {
     "data": {
      "text/html": [
       "<div>\n",
       "<style scoped>\n",
       "    .dataframe tbody tr th:only-of-type {\n",
       "        vertical-align: middle;\n",
       "    }\n",
       "\n",
       "    .dataframe tbody tr th {\n",
       "        vertical-align: top;\n",
       "    }\n",
       "\n",
       "    .dataframe thead th {\n",
       "        text-align: right;\n",
       "    }\n",
       "</style>\n",
       "<table border=\"1\" class=\"dataframe\">\n",
       "  <thead>\n",
       "    <tr style=\"text-align: right;\">\n",
       "      <th></th>\n",
       "      <th>Среднее суммы счетов без ипотки</th>\n",
       "    </tr>\n",
       "  </thead>\n",
       "  <tbody>\n",
       "    <tr>\n",
       "      <th>0</th>\n",
       "      <td>32095.885031</td>\n",
       "    </tr>\n",
       "  </tbody>\n",
       "</table>\n",
       "</div>"
      ],
      "text/plain": [
       "   Среднее суммы счетов без ипотки\n",
       "0                     32095.885031"
      ]
     },
     "execution_count": 31,
     "metadata": {},
     "output_type": "execute_result"
    }
   ],
   "source": [
    "Bal_SUM_0= pandasql.sqldf(\"\"\" \n",
    "    SELECT \n",
    "        AVG(Cheq_Bal + Sav_Bal +Debt_Bal) as \"Среднее суммы счетов без ипотки\" \n",
    "    FROM bank_account_data\n",
    "    WHERE Purchase=0;\"\"\")\n",
    "Bal_SUM_0"
   ]
  },
  {
   "cell_type": "code",
   "execution_count": 32,
   "metadata": {},
   "outputs": [
    {
     "data": {
      "text/html": [
       "<div>\n",
       "<style scoped>\n",
       "    .dataframe tbody tr th:only-of-type {\n",
       "        vertical-align: middle;\n",
       "    }\n",
       "\n",
       "    .dataframe tbody tr th {\n",
       "        vertical-align: top;\n",
       "    }\n",
       "\n",
       "    .dataframe thead th {\n",
       "        text-align: right;\n",
       "    }\n",
       "</style>\n",
       "<table border=\"1\" class=\"dataframe\">\n",
       "  <thead>\n",
       "    <tr style=\"text-align: right;\">\n",
       "      <th></th>\n",
       "      <th>Среднее суммы счетов с ипотекой</th>\n",
       "    </tr>\n",
       "  </thead>\n",
       "  <tbody>\n",
       "    <tr>\n",
       "      <th>0</th>\n",
       "      <td>36054.895385</td>\n",
       "    </tr>\n",
       "  </tbody>\n",
       "</table>\n",
       "</div>"
      ],
      "text/plain": [
       "   Среднее суммы счетов с ипотекой\n",
       "0                     36054.895385"
      ]
     },
     "execution_count": 32,
     "metadata": {},
     "output_type": "execute_result"
    }
   ],
   "source": [
    "Bal_SUM_1= pandasql.sqldf(\"\"\"\n",
    "    SELECT \n",
    "        AVG(Cheq_Bal + Sav_Bal +Debt_Bal) as \"Среднее суммы счетов с ипотекой\" \n",
    "    FROM bank_account_data \n",
    "    WHERE Purchase=1;\"\"\")\n",
    "Bal_SUM_1"
   ]
  },
  {
   "cell_type": "code",
   "execution_count": 33,
   "metadata": {},
   "outputs": [
    {
     "data": {
      "text/html": [
       "<div>\n",
       "<style scoped>\n",
       "    .dataframe tbody tr th:only-of-type {\n",
       "        vertical-align: middle;\n",
       "    }\n",
       "\n",
       "    .dataframe tbody tr th {\n",
       "        vertical-align: top;\n",
       "    }\n",
       "\n",
       "    .dataframe thead th {\n",
       "        text-align: right;\n",
       "    }\n",
       "</style>\n",
       "<table border=\"1\" class=\"dataframe\">\n",
       "  <thead>\n",
       "    <tr style=\"text-align: right;\">\n",
       "      <th></th>\n",
       "      <th>AVG(Cheq_Bal)</th>\n",
       "      <th>AVG(Sav_Bal)</th>\n",
       "      <th>AVG (Debt_Bal)</th>\n",
       "    </tr>\n",
       "  </thead>\n",
       "  <tbody>\n",
       "    <tr>\n",
       "      <th>0</th>\n",
       "      <td>2757.975641</td>\n",
       "      <td>29627.564359</td>\n",
       "      <td>3669.355385</td>\n",
       "    </tr>\n",
       "  </tbody>\n",
       "</table>\n",
       "</div>"
      ],
      "text/plain": [
       "   AVG(Cheq_Bal)  AVG(Sav_Bal)  AVG (Debt_Bal)\n",
       "0    2757.975641  29627.564359     3669.355385"
      ]
     },
     "execution_count": 33,
     "metadata": {},
     "output_type": "execute_result"
    }
   ],
   "source": [
    "Bal_AVG_1= pandasql.sqldf(\"\"\"\n",
    "    SELECT \n",
    "        AVG(Cheq_Bal), AVG(Sav_Bal), AVG (Debt_Bal)\n",
    "    FROM bank_account_data \n",
    "    WHERE Purchase=1;\"\"\")\n",
    "Bal_AVG_1"
   ]
  },
  {
   "cell_type": "code",
   "execution_count": 34,
   "metadata": {},
   "outputs": [
    {
     "data": {
      "text/html": [
       "<div>\n",
       "<style scoped>\n",
       "    .dataframe tbody tr th:only-of-type {\n",
       "        vertical-align: middle;\n",
       "    }\n",
       "\n",
       "    .dataframe tbody tr th {\n",
       "        vertical-align: top;\n",
       "    }\n",
       "\n",
       "    .dataframe thead th {\n",
       "        text-align: right;\n",
       "    }\n",
       "</style>\n",
       "<table border=\"1\" class=\"dataframe\">\n",
       "  <thead>\n",
       "    <tr style=\"text-align: right;\">\n",
       "      <th></th>\n",
       "      <th>AVG(Cheq_Bal)</th>\n",
       "      <th>AVG(Sav_Bal)</th>\n",
       "      <th>AVG (Debt_Bal)</th>\n",
       "    </tr>\n",
       "  </thead>\n",
       "  <tbody>\n",
       "    <tr>\n",
       "      <th>0</th>\n",
       "      <td>1996.631366</td>\n",
       "      <td>20257.209814</td>\n",
       "      <td>9842.043851</td>\n",
       "    </tr>\n",
       "  </tbody>\n",
       "</table>\n",
       "</div>"
      ],
      "text/plain": [
       "   AVG(Cheq_Bal)  AVG(Sav_Bal)  AVG (Debt_Bal)\n",
       "0    1996.631366  20257.209814     9842.043851"
      ]
     },
     "execution_count": 34,
     "metadata": {},
     "output_type": "execute_result"
    }
   ],
   "source": [
    "Bal_AVG_0= pandasql.sqldf(\"\"\"\n",
    "    SELECT \n",
    "        AVG(Cheq_Bal), AVG(Sav_Bal), AVG (Debt_Bal)\n",
    "    FROM bank_account_data \n",
    "    WHERE Purchase=0;\"\"\")\n",
    "Bal_AVG_0"
   ]
  },
  {
   "cell_type": "markdown",
   "metadata": {},
   "source": [
    "Строка: 0 - без ипотеки, 1 - с ипотекой. Разница есть: люди с ипотекой имеют на Cheq_Bal & Sav_Bal больший счет."
   ]
  },
  {
   "cell_type": "code",
   "execution_count": 35,
   "metadata": {},
   "outputs": [
    {
     "data": {
      "text/html": [
       "<div>\n",
       "<style scoped>\n",
       "    .dataframe tbody tr th:only-of-type {\n",
       "        vertical-align: middle;\n",
       "    }\n",
       "\n",
       "    .dataframe tbody tr th {\n",
       "        vertical-align: top;\n",
       "    }\n",
       "\n",
       "    .dataframe thead th {\n",
       "        text-align: right;\n",
       "    }\n",
       "</style>\n",
       "<table border=\"1\" class=\"dataframe\">\n",
       "  <thead>\n",
       "    <tr style=\"text-align: right;\">\n",
       "      <th></th>\n",
       "      <th>AVG(Cheq_Bal)</th>\n",
       "      <th>AVG(Sav_Bal)</th>\n",
       "      <th>AVG (Debt_Bal)</th>\n",
       "    </tr>\n",
       "  </thead>\n",
       "  <tbody>\n",
       "    <tr>\n",
       "      <th>0</th>\n",
       "      <td>1996.631366</td>\n",
       "      <td>20257.209814</td>\n",
       "      <td>9842.043851</td>\n",
       "    </tr>\n",
       "    <tr>\n",
       "      <th>1</th>\n",
       "      <td>2757.975641</td>\n",
       "      <td>29627.564359</td>\n",
       "      <td>3669.355385</td>\n",
       "    </tr>\n",
       "  </tbody>\n",
       "</table>\n",
       "</div>"
      ],
      "text/plain": [
       "   AVG(Cheq_Bal)  AVG(Sav_Bal)  AVG (Debt_Bal)\n",
       "0    1996.631366  20257.209814     9842.043851\n",
       "1    2757.975641  29627.564359     3669.355385"
      ]
     },
     "execution_count": 35,
     "metadata": {},
     "output_type": "execute_result"
    }
   ],
   "source": [
    "pd.concat([Bal_AVG_0, Bal_AVG_1], ignore_index=True, axis=0)"
   ]
  },
  {
   "cell_type": "markdown",
   "metadata": {},
   "source": [
    "Самый возрастной получатель Ипотеки с ID=41, ему 45 лет."
   ]
  },
  {
   "cell_type": "code",
   "execution_count": 36,
   "metadata": {},
   "outputs": [
    {
     "data": {
      "text/html": [
       "<div>\n",
       "<style scoped>\n",
       "    .dataframe tbody tr th:only-of-type {\n",
       "        vertical-align: middle;\n",
       "    }\n",
       "\n",
       "    .dataframe tbody tr th {\n",
       "        vertical-align: top;\n",
       "    }\n",
       "\n",
       "    .dataframe thead th {\n",
       "        text-align: right;\n",
       "    }\n",
       "</style>\n",
       "<table border=\"1\" class=\"dataframe\">\n",
       "  <thead>\n",
       "    <tr style=\"text-align: right;\">\n",
       "      <th></th>\n",
       "      <th>Cust_ID</th>\n",
       "      <th>Purchase</th>\n",
       "      <th>Cheq_Bal</th>\n",
       "      <th>Sav_Bal</th>\n",
       "      <th>Debt_Bal</th>\n",
       "      <th>Joint_Acct</th>\n",
       "      <th>Age</th>\n",
       "      <th>Date</th>\n",
       "    </tr>\n",
       "  </thead>\n",
       "  <tbody>\n",
       "    <tr>\n",
       "      <th>0</th>\n",
       "      <td>41</td>\n",
       "      <td>1</td>\n",
       "      <td>3615.8</td>\n",
       "      <td>24983.76</td>\n",
       "      <td>5663.16</td>\n",
       "      <td>0</td>\n",
       "      <td>45</td>\n",
       "      <td>2017-08-25 00:00:00.000000</td>\n",
       "    </tr>\n",
       "  </tbody>\n",
       "</table>\n",
       "</div>"
      ],
      "text/plain": [
       "   Cust_ID  Purchase  Cheq_Bal   Sav_Bal  Debt_Bal  Joint_Acct  Age  \\\n",
       "0       41         1    3615.8  24983.76   5663.16           0   45   \n",
       "\n",
       "                         Date  \n",
       "0  2017-08-25 00:00:00.000000  "
      ]
     },
     "execution_count": 36,
     "metadata": {},
     "output_type": "execute_result"
    }
   ],
   "source": [
    "Age_max= pandasql.sqldf(\"\"\"\n",
    "    SELECT * \n",
    "    FROM \n",
    "        bank_account_data\n",
    "    WHERE\n",
    "        Purchase=1\n",
    "        AND Age = (SELECT MAX(Age) FROM bank_account_data WHERE Purchase=1);\"\"\")\n",
    "Age_max"
   ]
  },
  {
   "cell_type": "markdown",
   "metadata": {},
   "source": [
    "Раньше всех получил ипотеку клиент с ID = 185, с датой = 2017-04-01 "
   ]
  },
  {
   "cell_type": "code",
   "execution_count": 37,
   "metadata": {},
   "outputs": [
    {
     "data": {
      "text/html": [
       "<div>\n",
       "<style scoped>\n",
       "    .dataframe tbody tr th:only-of-type {\n",
       "        vertical-align: middle;\n",
       "    }\n",
       "\n",
       "    .dataframe tbody tr th {\n",
       "        vertical-align: top;\n",
       "    }\n",
       "\n",
       "    .dataframe thead th {\n",
       "        text-align: right;\n",
       "    }\n",
       "</style>\n",
       "<table border=\"1\" class=\"dataframe\">\n",
       "  <thead>\n",
       "    <tr style=\"text-align: right;\">\n",
       "      <th></th>\n",
       "      <th>Cust_ID</th>\n",
       "      <th>Purchase</th>\n",
       "      <th>Cheq_Bal</th>\n",
       "      <th>Sav_Bal</th>\n",
       "      <th>Debt_Bal</th>\n",
       "      <th>Joint_Acct</th>\n",
       "      <th>Age</th>\n",
       "      <th>Date</th>\n",
       "    </tr>\n",
       "  </thead>\n",
       "  <tbody>\n",
       "    <tr>\n",
       "      <th>0</th>\n",
       "      <td>185</td>\n",
       "      <td>1</td>\n",
       "      <td>1759.04</td>\n",
       "      <td>29198.17</td>\n",
       "      <td>3285.39</td>\n",
       "      <td>1</td>\n",
       "      <td>36</td>\n",
       "      <td>2017-04-01 00:00:00.000000</td>\n",
       "    </tr>\n",
       "  </tbody>\n",
       "</table>\n",
       "</div>"
      ],
      "text/plain": [
       "   Cust_ID  Purchase  Cheq_Bal   Sav_Bal  Debt_Bal  Joint_Acct  Age  \\\n",
       "0      185         1   1759.04  29198.17   3285.39           1   36   \n",
       "\n",
       "                         Date  \n",
       "0  2017-04-01 00:00:00.000000  "
      ]
     },
     "execution_count": 37,
     "metadata": {},
     "output_type": "execute_result"
    }
   ],
   "source": [
    "Date_min= pandasql.sqldf(\"\"\" \n",
    "    SELECT * \n",
    "    FROM \n",
    "        bank_account_data \n",
    "    WHERE\n",
    "        Purchase=1\n",
    "        AND Date = (SELECT MIN(Date) FROM bank_account_data WHERE Purchase=1) ;\"\"\")\n",
    "Date_min"
   ]
  },
  {
   "cell_type": "markdown",
   "metadata": {},
   "source": [
    "    Создайте любую базу данных в sqlite3, состоящую из 5 колонок, одна из колонок обязательно должна быть типа REAL. (Названия колонок любые, какие захотите)"
   ]
  },
  {
   "cell_type": "code",
   "execution_count": 38,
   "metadata": {},
   "outputs": [
    {
     "name": "stdout",
     "output_type": "stream",
     "text": [
      "Opened database successfully\n",
      "Table created successfully\n"
     ]
    }
   ],
   "source": [
    "import sqlite3\n",
    "\n",
    "New_db = sqlite3.connect('New_db.db')\n",
    "print(\"Opened database successfully\");\n",
    "\n",
    "New_db.execute('''\n",
    "CREATE TABLE IF NOT EXISTS Cardial_disease (\n",
    "ID INTEGER, \n",
    "SEX STRING,\n",
    "AGE INTEGER, \n",
    "SYS_HYP INTEGER,\n",
    "DIA_HYP INTEGER,  \n",
    "CHOLESTEROL REAL);''')\n",
    "\n",
    "New_db.commit()\n",
    "\n",
    "print(\"Table created successfully\");\n",
    "New_db.close()\n"
   ]
  },
  {
   "cell_type": "code",
   "execution_count": 39,
   "metadata": {},
   "outputs": [
    {
     "data": {
      "text/plain": [
       "<sqlite3.Connection at 0x1ea943528a0>"
      ]
     },
     "execution_count": 39,
     "metadata": {},
     "output_type": "execute_result"
    }
   ],
   "source": [
    "New_db"
   ]
  },
  {
   "cell_type": "code",
   "execution_count": 40,
   "metadata": {},
   "outputs": [],
   "source": [
    "# INSERTING VALUES\n",
    "New_db = sqlite3.connect('New_db.db')\n",
    "\n",
    "New_db.execute(\"\"\"\n",
    "INSERT INTO Cardial_disease VALUES\n",
    "('1', 'Male', '55', '140', '90', '6.2'),\n",
    "(2, 'Female', 45, 150, 100, 5.8),\n",
    "(3, 'Female', 60, 130, 110, 7.0);\"\"\")\n",
    "\n",
    "New_db.commit()\n",
    "New_db.close()"
   ]
  },
  {
   "cell_type": "code",
   "execution_count": 41,
   "metadata": {},
   "outputs": [],
   "source": [
    "New_db = sqlite3.connect('New_db.db')\n",
    "cur = New_db.cursor()\n",
    "cur.execute(\"SELECT * from Cardial_disease;\")\n",
    "result = cur.fetchall()\n",
    "New_db.close()\n"
   ]
  },
  {
   "cell_type": "code",
   "execution_count": 42,
   "metadata": {},
   "outputs": [
    {
     "data": {
      "text/plain": [
       "[(1, 'Male', 55, 140, 90, 6.2),\n",
       " (2, 'Female', 45, 150, 100, 5.8),\n",
       " (3, 'Female', 60, 130, 110, 7.0)]"
      ]
     },
     "execution_count": 42,
     "metadata": {},
     "output_type": "execute_result"
    }
   ],
   "source": [
    "result"
   ]
  },
  {
   "cell_type": "code",
   "execution_count": 43,
   "metadata": {},
   "outputs": [],
   "source": [
    "# DELETING VALUES\n",
    "New_db = sqlite3.connect('New_db.db')\n",
    "\n",
    "New_db.execute(\"\"\"\n",
    "    DELETE\n",
    "    FROM Cardial_disease \n",
    "    WHERE CHOLESTEROL < (SELECT MAX(CHOLESTEROL) FROM Cardial_disease)\n",
    "    AND CHOLESTEROL > (SELECT MIN(CHOLESTEROL) FROM Cardial_disease);\"\"\")\n",
    "\n",
    "New_db.commit()\n",
    "New_db.close()"
   ]
  },
  {
   "cell_type": "code",
   "execution_count": 44,
   "metadata": {},
   "outputs": [],
   "source": [
    "New_db = sqlite3.connect('New_db.db')\n",
    "cur = New_db.cursor()\n",
    "cur.execute(\"SELECT * from Cardial_disease;\")\n",
    "result = cur.fetchall()\n",
    "New_db.close()"
   ]
  },
  {
   "cell_type": "code",
   "execution_count": 48,
   "metadata": {},
   "outputs": [
    {
     "data": {
      "text/plain": [
       "[(2, 'Female', 45, 150, 100, 5.8), (3, 'Female', 60, 130, 110, 7.0)]"
      ]
     },
     "execution_count": 48,
     "metadata": {},
     "output_type": "execute_result"
    }
   ],
   "source": [
    "result"
   ]
  },
  {
   "cell_type": "code",
   "execution_count": 46,
   "metadata": {},
   "outputs": [],
   "source": [
    "# Delete ALL VALUES FROM New_db\n",
    "New_db = sqlite3.connect('New_db.db')\n",
    "\n",
    "New_db.execute(\"DELETE FROM Cardial_disease;\")\n",
    "\n",
    "New_db.commit()\n",
    "New_db.close()"
   ]
  }
 ],
 "metadata": {
  "kernelspec": {
   "display_name": "Python 3.9.10 64-bit",
   "language": "python",
   "name": "python3"
  },
  "language_info": {
   "codemirror_mode": {
    "name": "ipython",
    "version": 3
   },
   "file_extension": ".py",
   "mimetype": "text/x-python",
   "name": "python",
   "nbconvert_exporter": "python",
   "pygments_lexer": "ipython3",
   "version": "3.9.10"
  },
  "orig_nbformat": 4,
  "vscode": {
   "interpreter": {
    "hash": "94bd8c2ea60a909169070ae558e2dc216d7fabb7ff0aed7a37043b73aa4b03a8"
   }
  }
 },
 "nbformat": 4,
 "nbformat_minor": 2
}
